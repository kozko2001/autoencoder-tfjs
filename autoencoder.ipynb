{
 "cells": [
  {
   "cell_type": "markdown",
   "metadata": {},
   "source": [
    "### Load mnist dataset"
   ]
  },
  {
   "cell_type": "code",
   "execution_count": 15,
   "metadata": {},
   "outputs": [],
   "source": [
    "from keras.datasets import mnist\n",
    "import numpy as np\n",
    "\n",
    "(x_train, _), (x_test, _) = mnist.load_data()"
   ]
  },
  {
   "cell_type": "code",
   "execution_count": 16,
   "metadata": {},
   "outputs": [],
   "source": [
    "# normalize between 0..1\n",
    "x_train = x_train.astype('float32') / 255.\n",
    "x_test = x_test.astype('float32') / 255.\n",
    "x_train = np.reshape(x_train, (len(x_train), 28, 28, 1))\n",
    "x_test = np.reshape(x_test, (len(x_test), 28, 28, 1))"
   ]
  },
  {
   "cell_type": "markdown",
   "metadata": {},
   "source": [
    "### Load the model"
   ]
  },
  {
   "cell_type": "code",
   "execution_count": 6,
   "metadata": {},
   "outputs": [],
   "source": [
    "from keras.models import load_model\n",
    "\n",
    "autoencoder = load_model('autoencoder.h5')"
   ]
  },
  {
   "cell_type": "markdown",
   "metadata": {},
   "source": [
    "### Create the model"
   ]
  },
  {
   "cell_type": "code",
   "execution_count": 17,
   "metadata": {},
   "outputs": [],
   "source": [
    "## Create the model\n",
    "from keras.layers import Input, Dense, Conv2D, MaxPooling2D, UpSampling2D\n",
    "from keras.models import Model\n",
    "\n",
    "input_img = Input(shape=(28, 28, 1))  # adapt this if using `channels_first` image data format\n",
    "\n",
    "x = Conv2D(16, (3, 3), activation='relu', padding='same')(input_img)\n",
    "x = MaxPooling2D((2, 2), padding='same')(x)\n",
    "x = Conv2D(8, (3, 3), activation='relu', padding='same')(x)\n",
    "x = MaxPooling2D((2, 2), padding='same')(x)\n",
    "x = Conv2D(2, (3, 3), activation='relu', padding='same')(x)\n",
    "encoded = MaxPooling2D((2, 2), padding='same')(x)\n",
    "## encoded dim is 4x4x2\n",
    "\n",
    "x = Conv2D(8, (3, 3), activation='relu', padding='same', name=\"decodeR_input\")(encoded)\n",
    "x = UpSampling2D((2, 2))(x)\n",
    "x = Conv2D(8, (3, 3), activation='relu', padding='same')(x)\n",
    "x = UpSampling2D((2, 2))(x)\n",
    "x = Conv2D(16, (3, 3), activation='relu')(x)\n",
    "x = UpSampling2D((2, 2))(x)\n",
    "decoded = Conv2D(1, (3, 3), activation='sigmoid', padding='same')(x)\n",
    "\n",
    "encoder = Model(input_img, encoded)\n",
    "autoencoder = Model(input_img, decoded)\n",
    "\n"
   ]
  },
  {
   "cell_type": "code",
   "execution_count": 8,
   "metadata": {},
   "outputs": [],
   "source": [
    "# !tensorboard --logdir=/tmp/autoencoder &"
   ]
  },
  {
   "cell_type": "code",
   "execution_count": 30,
   "metadata": {},
   "outputs": [
    {
     "name": "stdout",
     "output_type": "stream",
     "text": [
      "Train on 60000 samples, validate on 10000 samples\n",
      "Epoch 1/15\n",
      "60000/60000 [==============================] - 50s 837us/step - loss: 0.1448 - val_loss: 0.1453\n",
      "Epoch 2/15\n",
      "60000/60000 [==============================] - 50s 837us/step - loss: 0.1445 - val_loss: 0.1457\n",
      "Epoch 3/15\n",
      "60000/60000 [==============================] - 50s 840us/step - loss: 0.1439 - val_loss: 0.1439\n",
      "Epoch 4/15\n",
      "60000/60000 [==============================] - 50s 833us/step - loss: 0.1431 - val_loss: 0.1419\n",
      "Epoch 5/15\n",
      "60000/60000 [==============================] - 50s 829us/step - loss: 0.1428 - val_loss: 0.1406\n",
      "Epoch 6/15\n",
      "60000/60000 [==============================] - 50s 826us/step - loss: 0.1418 - val_loss: 0.1408\n",
      "Epoch 7/15\n",
      "60000/60000 [==============================] - 50s 829us/step - loss: 0.1415 - val_loss: 0.1393\n",
      "Epoch 8/15\n",
      "60000/60000 [==============================] - 50s 830us/step - loss: 0.1412 - val_loss: 0.1401\n",
      "Epoch 9/15\n",
      "60000/60000 [==============================] - 50s 832us/step - loss: 0.1407 - val_loss: 0.1401\n",
      "Epoch 10/15\n",
      "60000/60000 [==============================] - 50s 831us/step - loss: 0.1402 - val_loss: 0.1410\n",
      "Epoch 11/15\n",
      "60000/60000 [==============================] - 50s 828us/step - loss: 0.1397 - val_loss: 0.1440\n",
      "Epoch 12/15\n",
      "60000/60000 [==============================] - 50s 839us/step - loss: 0.1393 - val_loss: 0.1390\n",
      "Epoch 13/15\n",
      "60000/60000 [==============================] - 50s 826us/step - loss: 0.1389 - val_loss: 0.1381\n",
      "Epoch 14/15\n",
      "60000/60000 [==============================] - 48s 804us/step - loss: 0.1386 - val_loss: 0.1377\n",
      "Epoch 15/15\n",
      "60000/60000 [==============================] - 48s 795us/step - loss: 0.1383 - val_loss: 0.1379\n"
     ]
    }
   ],
   "source": [
    "## Compile\n",
    "autoencoder.compile(optimizer='adadelta', loss='binary_crossentropy')\n",
    "\n",
    "## Train\n",
    "from keras.callbacks import TensorBoard\n",
    "\n",
    "autoencoder.fit(x_train, x_train,\n",
    "                epochs=15,\n",
    "                batch_size=512,\n",
    "                shuffle=True,\n",
    "                callbacks=[TensorBoard(log_dir='/tmp/autoencoder')],\n",
    "                validation_data=(x_test, x_test))\n",
    "\n",
    "autoencoder.save('autoencoder.h5')"
   ]
  },
  {
   "cell_type": "markdown",
   "metadata": {},
   "source": [
    "## Show some images \n",
    "\n",
    "First row is the original\n",
    "Second row is the auto-decoded"
   ]
  },
  {
   "cell_type": "code",
   "execution_count": 31,
   "metadata": {},
   "outputs": [
    {
     "name": "stderr",
     "output_type": "stream",
     "text": [
      "/Users/jcoscolla/tmp/autoencoder/venv/lib/python3.6/site-packages/matplotlib/cbook/deprecation.py:107: MatplotlibDeprecationWarning: Adding an axes using the same arguments as a previous axes currently reuses the earlier instance.  In a future version, a new instance will always be created and returned.  Meanwhile, this warning can be suppressed, and the future behavior ensured, by passing a unique label to each axes instance.\n",
      "  warnings.warn(message, mplDeprecation, stacklevel=1)\n"
     ]
    },
    {
     "data": {
      "image/png": "[encoded data removed]",
      "text/plain": [
       "<Figure size 1440x288 with 19 Axes>"
      ]
     },
     "metadata": {},
     "output_type": "display_data"
    }
   ],
   "source": [
    "import matplotlib.pyplot as plt\n",
    "\n",
    "decoded_imgs = autoencoder.predict(x_test)\n",
    "\n",
    "n = 10\n",
    "plt.figure(figsize=(20, 4))\n",
    "for i in range(n):\n",
    "    # display original\n",
    "    ax = plt.subplot(2, n, i+1)\n",
    "    plt.imshow(x_test[i].reshape(28, 28))\n",
    "    plt.gray()\n",
    "    ax.get_xaxis().set_visible(False)\n",
    "    ax.get_yaxis().set_visible(False)\n",
    "\n",
    "    # display reconstruction\n",
    "    ax = plt.subplot(2, n, i + n)\n",
    "    plt.imshow(decoded_imgs[i].reshape(28, 28))\n",
    "    plt.gray()\n",
    "    ax.get_xaxis().set_visible(False)\n",
    "    ax.get_yaxis().set_visible(False)\n",
    "plt.show()"
   ]
  },
  {
   "cell_type": "code",
   "execution_count": 32,
   "metadata": {},
   "outputs": [
    {
     "data": {
      "image/png": "[encoded data removed]",
      "text/plain": [
       "<Figure size 432x288 with 1 Axes>"
      ]
     },
     "metadata": {},
     "output_type": "display_data"
    }
   ],
   "source": [
    "image = x_test[1]\n",
    "\n",
    "image = np.expand_dims(image, axis=0)\n",
    "decoded = autoencoder.predict(image)\n",
    "#encoded_img = encoder.predict(image)\n",
    "\n",
    "#print(encoded_img)\n",
    "\n",
    "def show_image(image, shape = (28,28)):\n",
    "    plt.imshow(image.reshape(shape[0], shape[1]))\n",
    "\n",
    "show_image(image)\n",
    "show_image(decoded)\n"
   ]
  },
  {
   "cell_type": "code",
   "execution_count": 12,
   "metadata": {},
   "outputs": [],
   "source": [
    "import tensorflowjs as tfjs\n",
    "tfjs.converters.save_keras_model(autoencoder, 'model/')\n"
   ]
  },
  {
   "cell_type": "code",
   "execution_count": null,
   "metadata": {},
   "outputs": [],
   "source": []
  },
  {
   "cell_type": "code",
   "execution_count": null,
   "metadata": {},
   "outputs": [],
   "source": []
  }
 ],
 "metadata": {
  "kernelspec": {
   "display_name": "Python 3",
   "language": "python",
   "name": "python3"
  },
  "language_info": {
   "codemirror_mode": {
    "name": "ipython",
    "version": 3
   },
   "file_extension": ".py",
   "mimetype": "text/x-python",
   "name": "python",
   "nbconvert_exporter": "python",
   "pygments_lexer": "ipython3",
   "version": "3.6.4"
  }
 },
 "nbformat": 4,
 "nbformat_minor": 2
}
